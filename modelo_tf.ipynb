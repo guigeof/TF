{
  "cells": [
    {
      "cell_type": "markdown",
      "metadata": {
        "colab_type": "text",
        "id": "view-in-github"
      },
      "source": [
        "<a href=\"https://colab.research.google.com/github/guiguilhermegui/TF/blob/main/modelo_tf.ipynb\" target=\"_parent\"><img src=\"https://colab.research.google.com/assets/colab-badge.svg\" alt=\"Open In Colab\"/></a>"
      ]
    },
    {
      "cell_type": "code",
      "execution_count": 1,
      "metadata": {
        "colab": {
          "base_uri": "https://localhost:8080/"
        },
        "id": "JEYpfqug3BmP",
        "jupyter": {
          "outputs_hidden": false
        },
        "outputId": "c8f22b0c-f2b4-4649-9b04-0639f5bbfca1"
      },
      "outputs": [],
      "source": [
        "# Checkout www.pygimli.org for more examples\n",
        "#!pip install pygimli tetgen"
      ]
    },
    {
      "cell_type": "markdown",
      "metadata": {
        "id": "anP4a6CL3BmT"
      },
      "source": [
        "\n",
        "# Hydrogeophysical modelling\n",
        "\n",
        "Coupled hydrogeophysical modelling example. This essentially represents the\n",
        "forward modelling step of the example presented in section 3.2 of the [pyGIMLi\n",
        "paper](http://www.sciencedirect.com/science/article/pii/S0098300417300584/pdfft?md5=44253eaacd5490e3fb32210671672496&pid=1-s2.0-S0098300417300584-main.pdf).\n"
      ]
    },
    {
      "cell_type": "markdown",
      "metadata": {
        "id": "IeQqztjy3BmV"
      },
      "source": [
        "Create geometry definition for the modelling domain\n",
        "\n"
      ]
    },
    {
      "cell_type": "code",
      "execution_count": 2,
      "metadata": {},
      "outputs": [],
      "source": [
        "#imports\n",
        "\n",
        "import numpy as np\n",
        "import matplotlib.pyplot as plt\n",
        "import pygimli as pg\n",
        "import pygimli.meshtools as mt\n",
        "import pygimli.physics.ert as ert\n",
        "import pygimli.physics.petro as petro\n",
        "from pygimli.physics import ERTManager"
      ]
    },
    {
      "cell_type": "code",
      "execution_count": 3,
      "metadata": {
        "id": "yvWaKQoU3BmW"
      },
      "outputs": [],
      "source": [
        "# Parametros dos furos\n",
        "bores = [-20, -15, -10, -5, 0, 5, 10, 15]                       # Posição central dos furos\n",
        "altura_poco=0\n",
        "prof_poco=-0.9\n",
        "raio_poco=0.35   #precisa ser decimal Ex:\"3.00001\"\n",
        "\n",
        "# OK Posicoes relativas do furo\n",
        "esq = '.' + f'{raio_poco:.2f}'.split('.')[1]\n",
        "dir = '.' + f'{1 - raio_poco:.2f}'.split('.')[1]\n",
        "#print(f'raio_poco={raio_poco:.2f} esq={esq} dir={dir}')\n",
        "\n",
        "# limites world sandbox\n",
        "box_esq=-30\n",
        "box_dir=30\n",
        "box_top=0.01\n",
        "box_bottom=-20\n",
        "\n",
        "# parâmetros de malha\n",
        "mesh_area=0.4               # area da mesh em metros^2\n",
        "mesh_quality=10             # qualidade da mesh evitar valores acima de 33 por questões de performance\n",
        "\n",
        "# Atribute hydraulic conductivity in m/s to each region (interfaces/layers) of the model\n",
        "K_poco = 1e4\n",
        "K_mundo = 1e-9\n",
        "\n",
        "#markers\n",
        "kMap = [[1, K_mundo],  [9, K_poco]] #[0, 3e-1],    #Use [[RegionMarker, ConductivityValue], ...]\n",
        "\n",
        "# Definições de variáveis e funções\n",
        "#h0 = altura_poco            # Altura inicial da água no poço\n",
        "#h2o = h0 - prof_poco        # Altura da linha da água inicial no poço\n",
        "#h2o2=0\n",
        "#y=0.0001\n",
        "#y = 0.1  # Defina a variação na linha vertical da fronteira\n",
        "# Defina os parâmetros iniciais hidráulicos\n",
        "#taxa_de_infiltracao = 0.005 # Taxa de infiltração em m/s\n",
        "#num_iteracoes = 20          # Número de iterações dt para simulação\n",
        "#dt = 1                      # Intervalo de tempo em segundos\n",
        "\n",
        "# Dirichlet conditions for hydraulic potential\n",
        "\n",
        "# Definir valores de fronteira pro potencial hidráulico \n",
        "# fronteiras 1top, 2lat,3_fundo,4latmundo,-2basemundo,-1topomundo\n",
        "base_2 = 0.0\n",
        "topo7 = 0.9\n",
        "#laterais8 = h202             # Defina a altura da água nas laterais\n",
        "#fundo9 = 0.9   #h20           # Defina a altura da água no poço\n",
        "pBound = {\"Dirichlet\": {-2: base_2, 1: topo7}} #{marker: value, ...} #Dirichlet, Neumann, Robin\n",
        "#pBound = pBound.append(\"Neumann\":{2: laterais8, 3:fundo9})\n",
        "\n",
        "\n",
        "# Parâmetros do meio poroso para adveccao-dispersao\n",
        "phi = 0.3                    # Porosidade meio\n",
        "#D = 0.01                    # Coeficiente de dispersão m^2/s\n",
        "\n",
        "\n",
        "# Fluid                      # Condutividade elétrica da água em S/m\n",
        "# Create conductivity of fluid for salt concentration :math:`c` sigmaFluid = c[timesERT] * sigma_bx + sigma_a\n",
        "sigma_a = -0.00031\n",
        "sigma_bx = 0.19330           # Condutividade = A+bx   \n",
        "\n",
        "TracerCon = 13.27            # Concentração em g/l\n",
        "\n",
        "cementation_exponent = 1.1,  # Exponente de cimentação para a resistividade do solo\n",
        "\n",
        "\n",
        "\n",
        "# Simulação\n",
        "TimeSimu_days = 1            # Tempo de simulação em dias  \n",
        "TimeSimu_slice = 2400        # Número de fatias para a simulação em time steps\n",
        "\n",
        "\n",
        "# OK ERT parameters\n",
        "ERT_dist= 600                # Distância total dos eletrodos em metros\n",
        "ERT_elecs = 60               # Quantidade de eletrodos\n",
        "ERT_spac = 10                # Espaçamento entre os eletrodos em metros\n",
        "ERT_Array = 'dd'\n",
        "elecs = np.linspace(-ERT_dist/2, ERT_dist/2, ERT_elecs)\n"
      ]
    },
    {
      "cell_type": "code",
      "execution_count": 4,
      "metadata": {
        "id": "FLLmr6Fa3BmX",
        "jupyter": {
          "outputs_hidden": false
        },
        "outputId": "93ce1737-995b-44da-ebbd-e776c1eca3fe"
      },
      "outputs": [],
      "source": [
        "# Create a 2D world box\n",
        "world = mt.createWorld(start=[box_esq, box_top], end=[box_dir, box_bottom], WorldMarker=True,) #layers=[-2,-8]) \n",
        "\n",
        "# Create boreholes\n",
        "poco = []\n",
        "for pos in bores:\n",
        "    poco.append(mt.createRectangle(start=[pos - raio_poco, altura_poco], end=[pos + raio_poco,prof_poco], marker=9))\n",
        "boreholes = poco[0]\n",
        "for borehole in poco[1:]:\n",
        "    boreholes = boreholes + borehole\n",
        "\n",
        "\n",
        "# Create geometry of model\n",
        "geom = world + boreholes\n",
        "mesh = mt.createMesh(geom, quality=mesh_quality, area=mesh_area, smooth=[1, 10])\n",
        "#pg.show(mesh)\n",
        "\n",
        "coord = []\n",
        "# Create figure\n",
        "#ax, _ = pg.show(geom, markers=False, orientation='vertical', figsize=(15, 8), showNodes=True, showMesh=True)\n",
        "# Print nodes\n",
        "for i, n in enumerate(geom.nodes()):\n",
        "#    ax.text(n.x(), n.y(), str(i), color='blue', size=10)\n",
        "    coord.append([i, n.x(), n.y()])\n",
        "# Print 4 lists of nodes per line, very useful for rectangles\n",
        "#for i in range(0, len(coord), 4):\n",
        "#    print('coord' + str(coord[i:i+4]))\n"
      ]
    },
    {
      "cell_type": "code",
      "execution_count": 5,
      "metadata": {
        "id": "xm9gFA6a3BmZ",
        "outputId": "d2422402-fba0-4811-c5b9-ce34918af0db"
      },
      "outputs": [],
      "source": [
        "# Calculo doido de coordenadas dos nós\n",
        "leftneg_boundaries = [boundary.id() for boundary in geom.boundaries() if (boundary.center()[0] < 0 and str(boundary.center()[0]).endswith(esq))]\n",
        "leftpos_boundaries = [boundary.id() for boundary in geom.boundaries() if (boundary.center()[0] > 0 and str(boundary.center()[0]).endswith(dir))]\n",
        "rightpos_boundaries = [boundary.id() for boundary in geom.boundaries() if (boundary.center()[0] > 0 and str(boundary.center()[0]).endswith(esq))]\n",
        "rightneg_boundaries = [boundary.id() for boundary in geom.boundaries() if (boundary.center()[0] < 0 and str(boundary.center()[0]).endswith(dir))]\n",
        "left_boundaries = leftneg_boundaries + leftpos_boundaries\n",
        "right_boundaries = rightneg_boundaries + rightpos_boundaries\n",
        "\n",
        "top_boundaries = [boundary.id() for boundary in geom.boundaries() if boundary.center()[1] == altura_poco]\n",
        "bottom_boundaries = [boundary.id() for boundary in geom.boundaries() if boundary.center()[1] ==prof_poco]\n",
        "world_boundaries = [boundary.id() for boundary in geom.boundaries() if boundary.id() not in top_boundaries + bottom_boundaries + left_boundaries + right_boundaries]\n",
        "\n",
        "#print('left_boundaries: ' + str(left_boundaries))\n",
        "#print('bottom_boundaries: ' + str(bottom_boundaries))\n",
        "#print('right_boundaries: ' + str(right_boundaries))\n",
        "#print('top_boundaries: ' + str(top_boundaries))\n",
        "#print('world_boundaries: ' + str(world_boundaries))\n"
      ]
    },
    {
      "cell_type": "code",
      "execution_count": null,
      "metadata": {
        "id": "u9AQC2jl3Bmb",
        "outputId": "9d8adaf0-368a-42af-ea7b-d3b20f36be4c"
      },
      "outputs": [],
      "source": [
        "# Atribuição da numeracao das fronteiras boreholes\n",
        "def pos(count):\n",
        "    return pg.Pos(coord[count][1], coord[count][2])\n",
        "for a in range(len(bottom_boundaries)):\n",
        "    geom.createEdge(geom.node(bottom_boundaries[a]), geom.node(right_boundaries[a]), marker=9)\n",
        "\n",
        "for a in range(len(right_boundaries)):\n",
        "    geom.createEdge(geom.node(top_boundaries[a]), geom.node(right_boundaries[a]), marker=8)\n",
        "\n",
        "for a in range(len(left_boundaries)):\n",
        "    geom.createEdge(geom.node(bottom_boundaries[a]), geom.node(left_boundaries[a]), marker=8)\n",
        "for a in range(len(top_boundaries)):\n",
        "    geom.createEdge(geom.node(left_boundaries[a]), geom.node(top_boundaries[a]), marker=7)\n",
        "\n",
        "\n",
        "# Fronteiras world\n",
        "geom.createEdge(geom.node(0), geom.node(1), marker= 2)#esq\n",
        "geom.createEdge(geom.node(1), geom.node(2), marker=-2)#fundo\n",
        "geom.createEdge(geom.node(2), geom.node(3), marker= 2)#dir\n",
        "geom.createEdge(geom.node(3), geom.node(0), marker= -1)#topo mundo\n",
        "\n",
        "pg.show(geom, label='Boundary marker', markers=True, showMesh=True, figsize=(15, 8), orientation='vertical' )"
      ]
    },
    {
      "cell_type": "markdown",
      "metadata": {
        "id": "SSB_jA223Bmc"
      },
      "source": [
        "Fluid flow in a porous medium of slow non-viscous and non-frictional hydraulic\n",
        "movement is governed by Darcy's Law according to:\n",
        "\n",
        "\\begin{align}K^{-1}\\mathbf{v} + \\nabla p & = 0 \\\\\n",
        "   \\nabla \\cdot \\mathbf{v} & = 0\\\\\n",
        "   \\text{leading}\\,\\,\\text{to}\\,\\,\n",
        "   \\nabla\\cdot(K \\nabla p) & = 0 \\quad \\text{on} \\quad\\Omega\\end{align}\n",
        "\n",
        "We begin by defining isotropic values of hydraulic conductivity $K$ and\n",
        "mapping these to each mesh cell:\n",
        "\n"
      ]
    },
    {
      "cell_type": "code",
      "execution_count": 7,
      "metadata": {
        "id": "m0B40Cei3Bmc",
        "jupyter": {
          "outputs_hidden": false
        },
        "outputId": "3081b492-78f2-4044-eb56-cca3d0cccb44"
      },
      "outputs": [],
      "source": [
        "\n",
        "# Map conductivity value per region to each cell in the given mesh\n",
        "K = pg.solver.parseMapToCellArray(kMap, mesh)\n",
        "\n",
        "#pg.show(mesh, data=K, label='Hydraulic conductivity $K$ in m/s', cMin=1e-10, cMax=1e12, logScale=True, grid=True)"
      ]
    },
    {
      "cell_type": "markdown",
      "metadata": {
        "id": "Kh7kh7RD3Bmd"
      },
      "source": [
        "The problem further boundary conditions of the hydraulic potential. We use\n",
        "$p=p_0=0.75$ m on the left and $p=0$ on the right boundary of the modelling\n",
        "domain, equaling a hydraulic gradient of 1.75%.\n",
        "\n"
      ]
    },
    {
      "cell_type": "code",
      "execution_count": null,
      "metadata": {
        "id": "myFNzC_q3Bmf",
        "outputId": "54345b8d-ed3f-4658-d248-3c0d05e21c95"
      },
      "outputs": [],
      "source": [
        "#parcial = 10\n",
        "#mostrar_parcial = False\n",
        "#mostrar_cada_iteracao = False\n",
        "\n",
        "#p = np.random.rand(mesh.cellCount())                   # Inicialize com potencial hidráulico aleatorio\n",
        "\n",
        "\n",
        "# Resolver o modelo de potencial hidráulico\n",
        "p = pg.solver.solveFiniteElements(mesh, a=K, bc=pBound, verbose=True)\n",
        "\n",
        "\n",
        "#Loop para simular o preenchimento e esvaziamento do poço \n",
        "# \n",
        "# \n",
        "# ## já vai ser feito lá embaixo em FiniteVolume  \n",
        "#   ainda vai precisar simular esvaziamento pras fronteiras laterais do poço\n",
        "# \n",
        "# Calcular a nova altura do poço com base na taxa de esvaziamento\n",
        "#h2o = h0 - prof_poco - taxa_de_infiltracao * dt\n",
        "# Garantir que a altura do poço não fique negativa\n",
        "\n",
        "\n",
        "#    if mostrar_cada_iteracao == True:\n",
        "#        pg.show(mesh, data=p, label='Potencial Hidráulico após iteração {}'.format(t))\n",
        "#    if mostrar_parcial == True:\n",
        "#        if t % parcial == 0:\n",
        "#            pg.show(mesh, data=p, label='Potencial Hidráulico após iteração {}'.format(t))\n",
        "\n",
        "\n",
        "\n",
        "\n",
        "# (Opcional) Adicionar uma pausa para visualização\n",
        "# plt.pause(0.1)  # Se você estiver usando matplotlib para visualização\n",
        "#pg.show(mesh, data=p, label='Potencial Hidráulico após iteração {}'.format(t))\n",
        "#print(pBound)\n",
        "#print(h2o)\n",
        "\n",
        "\n"
      ]
    },
    {
      "cell_type": "markdown",
      "metadata": {
        "id": "Pxps52vv3Bmh"
      },
      "source": [
        "We can now call the finite element solver with the generated mesh, hydraulic\n",
        "conductivity and the boundary condition. The sought hydraulic velocity\n",
        "distribution can then be calculated as the gradient field of\n",
        "$\\mathbf{v}=-\\nabla p$ and visualized using the generic `pg.show()` function.\n",
        "\n"
      ]
    },
    {
      "cell_type": "code",
      "execution_count": null,
      "metadata": {},
      "outputs": [],
      "source": [
        "# Calculate statistics\n",
        "mean_p = np.mean(p)\n",
        "std_p = np.std(p)\n",
        "min_p = np.min(p)\n",
        "max_p = np.max(p)\n",
        "\n",
        "print(f\"Mean: {mean_p}, Std: {std_p}, Min: {min_p}, Max: {max_p}\")"
      ]
    },
    {
      "cell_type": "code",
      "execution_count": null,
      "metadata": {},
      "outputs": [],
      "source": [
        "# Atualizar a visualização ou armazenar resultados\n",
        "fig, axs = plt.subplots(1,2,figsize=(12, 12))\n",
        "pg.show(mesh, data=K, label='Condutividade Hidráulica $K$ em m/s', logScale=True, ax=axs[0],orientation='vertical')\n",
        "pg.show(mesh, data=p, label='Potencial Hidráulico', cMin=min_p, cMax=max_p, ax=axs[1],orientation='vertical')\n",
        "plt.show()"
      ]
    },
    {
      "cell_type": "code",
      "execution_count": null,
      "metadata": {
        "id": "QOS5qxIl3Bmi",
        "jupyter": {
          "outputs_hidden": false
        }
      },
      "outputs": [],
      "source": [
        "# Solve velocity as gradient of hydraulic potential\n",
        "vel = -pg.solver.grad(mesh, p) * np.asarray([K, K, K]).T #4d\n",
        "\n",
        "# Calculate statistics for the new range\n",
        "mean_vel = np.mean(vel)\n",
        "std_vel = np.std(vel)\n",
        "min_vel = np.min(vel)\n",
        "max_vel = np.max(vel)\n",
        "\n",
        "print(f\"Mean Velocity: {mean_vel}, Std: {std_vel}, Min: {min_vel}, Max: {max_vel}\")\n",
        "\n",
        "ax, _ = pg.show(mesh, data=pg.abs(vel) * 1000, cMin=min_vel, cMax=max_vel,\n",
        "                label='Velocity $v$ in mm/s', cMap='YlGnBu', hold=True)\n",
        "ax, _ = pg.show(mesh, data=vel, ax=ax, color='y', linewidth=0.6, dropTol=1e-12,\n",
        "                hold=True)"
      ]
    },
    {
      "cell_type": "code",
      "execution_count": 12,
      "metadata": {
        "id": "ua6v_Vqz3Bmi",
        "jupyter": {
          "outputs_hidden": false
        }
      },
      "outputs": [],
      "source": [
        "# Initialize the source vector of injections\n",
        "load_vector = pg.Vector(mesh.cellCount(), 0.0)\n",
        "\n",
        "# Fill injection source vector for a fixed injection position\n",
        "for pos in bores:\n",
        "    sourceCell = mesh.findCell(pos,0)\n",
        "    if sourceCell:\n",
        "        load_vector[sourceCell.id()] += TracerCon / sourceCell.size()  # g/(l s)\n",
        "\n",
        "\n"
      ]
    },
    {
      "cell_type": "code",
      "execution_count": null,
      "metadata": {
        "id": "NsFhmNNv3Bmj",
        "jupyter": {
          "outputs_hidden": false
        }
      },
      "outputs": [],
      "source": [
        "# Choose n slices  time steps for TimeSimulation days to seconds\n",
        "t = pg.utils.grange(0, TimeSimu_days * 24 * 3600, n=TimeSimu_slice)\n",
        "\n",
        "# Create dispersitivity, depending on the absolute velocity\n",
        "dispersion = pg.abs(vel) * 1e2  # thik it is to transform from mm/s to m/s ?\n",
        "\n",
        "# Solve for injection time, but we need velocities on cell nodes\n",
        "veln = mt.cellDataToNodeData(mesh, vel)\n",
        "c1 = pg.solver.solveFiniteVolume(mesh, a=dispersion, f=load_vector, vel=veln, times=t,\n",
        "                                 scheme='PS', verbose=0)\n",
        "\n",
        "# Solve without injection starting with last result\n",
        "c2 = pg.solver.solveFiniteVolume(mesh, a=dispersion, f=0, vel=veln, u0=c1[-1],\n",
        "                                 times=t, scheme='PS', verbose=0)\n",
        "# Stack results together\n",
        "c = np.vstack((c1, c2))\n",
        "\n",
        "# We can now visualize the result:\n",
        "# Calculate statistics\n",
        "mean_c = np.mean(c)\n",
        "std_c = np.std(c)\n",
        "min_c = np.min(c)\n",
        "max_c = np.max(c)\n",
        "\n",
        "print(f\"Mean: {mean_c}, Std: {std_c}, Min: {min_c}, Max: {max_c}\")\n",
        "\n"
      ]
    },
    {
      "cell_type": "code",
      "execution_count": null,
      "metadata": {},
      "outputs": [],
      "source": [
        "min_c_calc=mean_c-1*std_c\n",
        "max_c_calc=mean_c+1*std_c\n",
        "\n",
        "# Visualize the result\n",
        "for ci in c[1:][::200]:\n",
        "    pg.show(mesh, data=ci * 0.001, cMin=min_c_calc, cMax=max_c_calc, cMap=\"terrain_r\", logScale=True,\n",
        "            label=\"Concentration c in g/l\",figsize=(4, 8), orientation='vertical')\n",
        "    "
      ]
    },
    {
      "cell_type": "code",
      "execution_count": null,
      "metadata": {
        "id": "w6f1RFiA3Bmj",
        "jupyter": {
          "outputs_hidden": false
        }
      },
      "outputs": [],
      "source": [
        "# Create ERT measurement scheme\n",
        "\n",
        "ertScheme = ert.createData(elecs=elecs, schemeName=ERT_Array, spacing=ERT_spac)\n",
        "\n",
        "meshERT = mt.createParaMesh(ertScheme, quality=mesh_quality, paraMaxCellSize=10, nLayers=1,\n",
        "boundaryMaxCellSize=7500, smooth=[1, 2])\n",
        "\n",
        "pg.show(meshERT)"
      ]
    },
    {
      "cell_type": "code",
      "execution_count": null,
      "metadata": {},
      "outputs": [],
      "source": [
        "\n",
        "timesERT = pg.IVector(np.floor(np.linspace(0, len(c) - 1, 10)).astype(int)) # Select 10 time frame to simulate ERT data\n",
        "\n",
        "# Create conductivity of fluid for salt concentration :math:`c`\n",
        "sigmaFluid = c[timesERT] * sigma_bx + sigma_a\n",
        "\n",
        "c = np.array(c)  # Ensure c is a numpy array\n",
        "\n",
        "# Calculate bulk resistivity based on Archie's Law\n",
        "resBulk = petro.resistivityArchie(rFluid=1. / sigmaFluid, porosity=phi, m=cementation_exponent,\n",
        "                                  mesh=mesh, meshI=meshERT, fill=1)\n",
        "\n",
        "# apply background resistivity model\n",
        "rho0 = np.zeros(meshERT.cellCount()) + 1000.\n",
        "for cell in meshERT.cells():\n",
        "    if cell.center()[1] < -8:\n",
        "        rho0[cell.id()] = 150.\n",
        "    elif cell.center()[1] < -2:\n",
        "        rho0[cell.id()] = 500.\n",
        "resis = pg.Matrix(resBulk)\n",
        "for i, rbI in enumerate(resBulk):\n",
        "    resis[i] = 1. / ((1. / rbI) + 1. / rho0)\n",
        "\n"
      ]
    },
    {
      "cell_type": "code",
      "execution_count": null,
      "metadata": {},
      "outputs": [],
      "source": [
        "ERT = ERTManager(verbose=False)\n",
        "# Run  simulation for  the apparent resistivities\n",
        "rhoa = ERT.simulate(meshERT, res=resis, scheme=ertScheme, \n",
        "                    returnArray=True, verbose=False, noiseLevel=0.05, noiseAbs=0.0,)\n",
        "\n",
        "for i in range(4):\n",
        "    ERT.showData(ertScheme, vals=rhoa[i]/rhoa[0], cMin=1e-4, cMax=1)"
      ]
    },
    {
      "cell_type": "code",
      "execution_count": null,
      "metadata": {
        "id": "YUUGfIx13Bmk",
        "jupyter": {
          "outputs_hidden": false
        }
      },
      "outputs": [],
      "source": [
        "ERT = ERTManager(verbose=False)\n",
        "# Run  simulation for  the apparent resistivities\n",
        "rhoa = ERT.simulate(meshERT, res=resis, scheme=ertScheme,\n",
        "                    returnArray=True, verbose=False)\n",
        "\n",
        "for i in range(4):\n",
        "    ERT.showData(ertScheme, vals=rhoa[i]/rhoa[0], logScale=False, label='Apparent resistivity',)"
      ]
    }
  ],
  "metadata": {
    "colab": {
      "include_colab_link": true,
      "provenance": []
    },
    "kernelspec": {
      "display_name": "pg",
      "language": "python",
      "name": "python3"
    },
    "language_info": {
      "codemirror_mode": {
        "name": "ipython",
        "version": 3
      },
      "file_extension": ".py",
      "mimetype": "text/x-python",
      "name": "python",
      "nbconvert_exporter": "python",
      "pygments_lexer": "ipython3",
      "version": "3.10.16"
    }
  },
  "nbformat": 4,
  "nbformat_minor": 0
}
